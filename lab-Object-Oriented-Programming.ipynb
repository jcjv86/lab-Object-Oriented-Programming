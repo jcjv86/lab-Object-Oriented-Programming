{
 "cells": [
  {
   "cell_type": "markdown",
   "id": "94bb1c96-36db-446a-be38-46362e068d9e",
   "metadata": {},
   "source": [
    "# Lab | Object Oriented Programming"
   ]
  },
  {
   "cell_type": "markdown",
   "id": "d3fcb599-e3ec-4d54-a14e-f020c69feb28",
   "metadata": {},
   "source": [
    "#"
   ]
  },
  {
   "cell_type": "markdown",
   "id": "b0eefb39-9154-4795-b2d1-1793ddb64fe3",
   "metadata": {},
   "source": [
    "## Introduction\n",
    "\n",
    "#### In this lab you have to implement a Python class for a TV."
   ]
  },
  {
   "cell_type": "markdown",
   "id": "9c483187-2286-4e73-8012-9f2f2dae42c2",
   "metadata": {},
   "source": [
    "## Constructor\n",
    "\n",
    "#### Create a Python Tv class with a constructor and the following attributes:\n",
    "\n",
    "    - on (Boolean)\n",
    "    - volume (float in [0,100])\n",
    "    - active_channel (int in [1,10])\n",
    "    - input (str in [\"Anthena\", \"HDMI1\", \"HDMI2\", \"HDMI3\"])\n",
    "    - size (float in [42, 50, 55, 65, 75])\n"
   ]
  },
  {
   "cell_type": "markdown",
   "id": "3d6b574e-b0d8-4036-883b-ba503eea7ca5",
   "metadata": {},
   "source": [
    "## Methods\n",
    "\n",
    "    - switch_on()\n",
    "    - switch_off()\n",
    "    - set_volume(volume: int)\n",
    "    - change_channel(channel: int)\n",
    "    - set_input(value: str)\n"
   ]
  },
  {
   "cell_type": "code",
   "execution_count": 1,
   "id": "54721ba6-59e8-4413-817c-62ec407303b9",
   "metadata": {},
   "outputs": [],
   "source": [
    "class Python_Tv():\n",
    "    #Constructor\n",
    "    def __init__(self):\n",
    "        self.on = False\n",
    "        self.volume = 20\n",
    "        self.active_channel = 1\n",
    "        self.input = \"Antenna\"\n",
    "        self.size = 42\n",
    "\n",
    "    #Methods\n",
    "    def switch_on(self):\n",
    "        self.on = True\n",
    "    \n",
    "    def switch_off(self):\n",
    "        self.on = False\n",
    "    \n",
    "    def set_volume(self, volume:int):\n",
    "        self.volume = volume if volume in range (101) else 20\n",
    "    \n",
    "    def change_channel(self, channel:int):\n",
    "        self.active_channel = channel if channel in range(1,11) else 1\n",
    "\n",
    "    def set_input(self, value:str):\n",
    "        self.input = value if value in [\"Antenna\", \"HDMI1\", \"HDMI2\", \"HDMI3\"] else \"Antenna\"\n",
    "    \n",
    "    \n",
    "    #Method to display attributes status\n",
    "    def status(self):\n",
    "        if self.on == False:\n",
    "            print('TV is off')\n",
    "        else:\n",
    "            print('TV is On')\n",
    "            print('\\nVolume:',self.volume)\n",
    "            print('\\nChannel:',self.active_channel)\n",
    "            print('\\nInput:',self.input)"
   ]
  },
  {
   "cell_type": "code",
   "execution_count": 2,
   "id": "77c522c8-ec65-4041-9e8b-f36982661757",
   "metadata": {},
   "outputs": [],
   "source": [
    "tv = Python_Tv()"
   ]
  },
  {
   "cell_type": "code",
   "execution_count": 3,
   "id": "92409488-c5e2-4f40-9dde-7b01917358de",
   "metadata": {},
   "outputs": [
    {
     "name": "stdout",
     "output_type": "stream",
     "text": [
      "TV is off\n"
     ]
    }
   ],
   "source": [
    "tv.status()"
   ]
  },
  {
   "cell_type": "code",
   "execution_count": 4,
   "id": "753cec47-f8e7-4b93-942b-faa514b35755",
   "metadata": {},
   "outputs": [
    {
     "name": "stdout",
     "output_type": "stream",
     "text": [
      "TV is On\n",
      "\n",
      "Volume: 33\n",
      "\n",
      "Channel: 7\n",
      "\n",
      "Input: HDMI1\n"
     ]
    }
   ],
   "source": [
    "tv.switch_on()\n",
    "tv.change_channel(7)\n",
    "tv.set_input(\"HDMI1\")\n",
    "tv.set_volume(33)\n",
    "tv.status()"
   ]
  },
  {
   "cell_type": "code",
   "execution_count": 5,
   "id": "e8ae0d0e-d8b4-4d6e-9824-e939dad6489a",
   "metadata": {},
   "outputs": [
    {
     "name": "stdout",
     "output_type": "stream",
     "text": [
      "TV is On\n",
      "\n",
      "Volume: 100\n",
      "\n",
      "Channel: 9\n",
      "\n",
      "Input: HDMI2\n"
     ]
    }
   ],
   "source": [
    "tv.set_volume(100)\n",
    "tv.change_channel(9)\n",
    "tv.set_input('HDMI2')\n",
    "tv.status()"
   ]
  },
  {
   "cell_type": "code",
   "execution_count": 6,
   "id": "000a3fc2-6ebe-4f92-bfce-18f1073b18fa",
   "metadata": {},
   "outputs": [
    {
     "name": "stdout",
     "output_type": "stream",
     "text": [
      "TV is On\n",
      "\n",
      "Volume: 13\n",
      "\n",
      "Channel: 9\n",
      "\n",
      "Input: Antenna\n"
     ]
    }
   ],
   "source": [
    "tv.set_input('Antenna')\n",
    "tv.change_channel(9)\n",
    "tv.set_volume(13)\n",
    "tv.status()"
   ]
  },
  {
   "cell_type": "code",
   "execution_count": 7,
   "id": "894ab6a5-80f4-49b3-8a13-4838a6476874",
   "metadata": {},
   "outputs": [
    {
     "name": "stdout",
     "output_type": "stream",
     "text": [
      "TV is off\n"
     ]
    }
   ],
   "source": [
    "tv.switch_off()\n",
    "tv.status()"
   ]
  },
  {
   "cell_type": "code",
   "execution_count": null,
   "id": "fd32bb79-4272-402b-872e-6c8b31b69dab",
   "metadata": {},
   "outputs": [],
   "source": []
  }
 ],
 "metadata": {
  "kernelspec": {
   "display_name": "Python 3 (ipykernel)",
   "language": "python",
   "name": "python3"
  },
  "language_info": {
   "codemirror_mode": {
    "name": "ipython",
    "version": 3
   },
   "file_extension": ".py",
   "mimetype": "text/x-python",
   "name": "python",
   "nbconvert_exporter": "python",
   "pygments_lexer": "ipython3",
   "version": "3.9.13"
  }
 },
 "nbformat": 4,
 "nbformat_minor": 5
}
